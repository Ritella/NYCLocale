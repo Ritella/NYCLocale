{
 "cells": [
  {
   "cell_type": "markdown",
   "metadata": {},
   "source": [
    "# Front End Visualization"
   ]
  },
  {
   "cell_type": "code",
   "execution_count": 36,
   "metadata": {
    "scrolled": true
   },
   "outputs": [
    {
     "name": "stdout",
     "output_type": "stream",
     "text": [
      "4.288800118956715e-05\n"
     ]
    }
   ],
   "source": [
    "import gmaps\n",
    "import gmaps.datasets\n",
    "import pandas as pd\n",
    "import geopandas as gpd\n",
    "import json\n",
    "import geocoder\n",
    "import geocoder\n",
    "import numpy as np\n",
    "from shapely.geometry import Point\n",
    "from ipywidgets.embed import embed_minimal_html\n",
    "import timeit\n",
    "\n",
    "# set constants\n",
    "main_path = '/Users/rita/Dropbox/InsightDataScience/Project'\n",
    "api_key = open(main_path + '/config.py', 'r')\n",
    "api_key = api_key.read().replace('api_key = ', '').replace('“','').replace('”','')\n",
    "\n",
    "gmaps.configure(api_key=api_key) # Your Google API key\n",
    "\n",
    "# get information\n",
    "df = gpd.read_file(main_path + '/Results/nyc_blk_map_with_vals_for_front_end.shp')\n",
    "df_filt = gpd.read_file(main_path + '/Results/nyc_blk_map_with_vals_for_front_end_FILTERED.shp')\n",
    "with open(main_path + '/Data/Locations/Boroughs/BoroughBoundaries.geojson') as f:\n",
    "    geometry = json.load(f)\n",
    "\n",
    "\n",
    "new_york_coordinates = (40.75, -73.9)\n",
    "heatmap_gradient = [\n",
    "    (250, 185, 123, 0),\n",
    "   'yellow',\n",
    "    (249, 127, 77, 1),\n",
    "    'red',\n",
    "]\n",
    "\n",
    "# define layers\n",
    "geojson_layer = gmaps.geojson_layer(geometry, fill_color=(0,0,0,0), fill_opacity=1)\n",
    "heatmap_layer = gmaps.heatmap_layer(\n",
    "    df_filt[['latitude', 'longitude']], weights=df_filt['magnitude'],\n",
    "    max_intensity=10, point_radius=0.00075, opacity=1, gradient=heatmap_gradient, \n",
    "    dissipating=False)\n",
    "\n",
    "\n",
    "# add address\n",
    "address = '111 3rd St Brooklyn'\n",
    "address += \"; NY\"\n",
    "address_coords = geocoder.google(address,\n",
    "                             key=api_key)\n",
    "\n",
    "address_point_df = pd.DataFrame(data={'geometry': [Point(address_coords.latlng[1], address_coords.latlng[0])]})\n",
    "address_point_map = gpd.GeoDataFrame(address_point_df, geometry='geometry', crs=df.crs)\n",
    "combined = gpd.tools.sjoin(address_point_map, df, how='left') \n",
    "address_dict = [{'input_address': address, 'nbhd': combined.loc[0, 'Neighborho'],\n",
    "                 'this_val' : combined.loc[0, 'Rating'],\n",
    "                 'location': (combined.loc[0, 'latitude'], combined.loc[0, 'longitude'])}]\n",
    "info_box_template = \"\"\"\n",
    "<dl>\n",
    "<dt>Address</dt><dd>{input_address}</dd>\n",
    "<dt>Neighborhood</dt><dd>{nbhd}</dd>\n",
    "<dt>Active?</dt><dd>{this_val}</dd>\n",
    "</dl>\n",
    "\"\"\"\n",
    "address_info = [info_box_template.format(**address) for address in address_dict]\n",
    "address_location = [address['location'] for address in address_dict]\n",
    "marker_layer = gmaps.marker_layer(address_location, info_box_content=address_info,\n",
    "                                 hover_text='Click for Information')\n",
    "\n",
    "# make figure and display\n",
    "fig = gmaps.figure(center=new_york_coordinates, zoom_level=10.5)\n",
    "fig.add_layer(geojson_layer)\n",
    "fig.add_layer(heatmap_layer)\n",
    "fig.add_layer(marker_layer)\n",
    "embed_minimal_html('widget-test.html', views=fig)\n",
    "\n",
    "# timer test\n",
    "start_time = timeit.default_timer()\n",
    "print(timeit.default_timer() - start_time)"
   ]
  },
  {
   "cell_type": "code",
   "execution_count": 38,
   "metadata": {},
   "outputs": [],
   "source": [
    "# add address\n",
    "address = '111 3rd St'\n",
    "address_coords = geocoder.google(address,\n",
    "                             key=api_key)\n",
    "\n",
    "address_point_df = pd.DataFrame(data={'geometry': [Point(address_coords.latlng[1], address_coords.latlng[0])]})\n",
    "address_point_map = gpd.GeoDataFrame(address_point_df, geometry='geometry', crs=df.crs)\n",
    "combined = gpd.tools.sjoin(address_point_map, df, how='left') "
   ]
  }
 ],
 "metadata": {
  "kernelspec": {
   "display_name": "Python 3",
   "language": "python",
   "name": "python3"
  },
  "language_info": {
   "codemirror_mode": {
    "name": "ipython",
    "version": 3
   },
   "file_extension": ".py",
   "mimetype": "text/x-python",
   "name": "python",
   "nbconvert_exporter": "python",
   "pygments_lexer": "ipython3",
   "version": "3.7.2"
  }
 },
 "nbformat": 4,
 "nbformat_minor": 2
}
